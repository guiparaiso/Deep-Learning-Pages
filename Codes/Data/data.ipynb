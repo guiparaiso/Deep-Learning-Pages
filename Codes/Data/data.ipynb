{
 "cells": [
  {
   "cell_type": "code",
   "execution_count": null,
   "id": "ea3d5af8",
   "metadata": {},
   "outputs": [],
   "source": [
    "import numpy as np\n",
    "import pandas as pd\n",
    "import matplotlib.pyplot as plt\n",
    "from sklearn.linear_model import LogisticRegression\n",
    "from sklearn.preprocessing import StandardScaler\n",
    "from sklearn.pipeline import make_pipeline"
   ]
  },
  {
   "cell_type": "code",
   "execution_count": null,
   "id": "f5ed5d87",
   "metadata": {},
   "outputs": [],
   "source": [
    "rng = np.random.default_rng(42)\n",
    "# --- PARAMETERS (anisotropic: std is a length-2 vector) ---\n",
    "params = {\n",
    "    0: {\"mean\": np.array([2.0, 3.0]),  \"std\": np.array([0.8, 2.5])},\n",
    "    1: {\"mean\": np.array([5.0, 6.0]),  \"std\": np.array([1.2, 1.9])},\n",
    "    2: {\"mean\": np.array([8.0, 1.0]),  \"std\": np.array([0.9, 0.9])},\n",
    "    3: {\"mean\": np.array([15.0, 4.0]), \"std\": np.array([0.5, 2.0])},\n",
    "}\n",
    "samples_per_class = 100\n",
    "\n",
    "# --- GENERATE SAMPLES ---\n",
    "records = []\n",
    "for label, cfg in params.items():\n",
    "    mean = cfg[\"mean\"]\n",
    "    std = cfg[\"std\"]  # length-2 -> diagonal (anisotropic)\n",
    "    pts = rng.normal(loc=mean, scale=std, size=(samples_per_class, 2))\n",
    "    for p in pts:\n",
    "        records.append({\"x1\": float(p[0]), \"x2\": float(p[1]), \"label\": int(label)})\n",
    "df = pd.DataFrame(records)\n"
   ]
  }
 ],
 "metadata": {
  "kernelspec": {
   "display_name": "Python 3",
   "language": "python",
   "name": "python3"
  },
  "language_info": {
   "name": "python",
   "version": "3.12.3"
  }
 },
 "nbformat": 4,
 "nbformat_minor": 5
}
